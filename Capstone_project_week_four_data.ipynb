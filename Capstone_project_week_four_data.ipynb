{
    "nbformat_minor": 1, 
    "cells": [
        {
            "source": "Data Source:\nI would like to use the data from the City of Calgary \u2013 \u201cOpen Data Catalog\u201d, which is open for public and free for downloading:\n\nhttps://data.calgary.ca/Services-and-Amenities/School-Locations-and-Communities-Map/64t2-ax4d\n\nFor detail analysis, I also would like to use the table for postal codes of Calgary, which I have found on the following directory:\n\nhttp://www.geonames.org/postalcode-search.html?q=Calgary&country=CA&adminCode1=AB\n", 
            "cell_type": "markdown", 
            "metadata": {
                "collapsed": true
            }
        }
    ], 
    "metadata": {
        "kernelspec": {
            "display_name": "Python 3.5", 
            "name": "python3", 
            "language": "python"
        }, 
        "language_info": {
            "mimetype": "text/x-python", 
            "nbconvert_exporter": "python", 
            "version": "3.5.5", 
            "name": "python", 
            "file_extension": ".py", 
            "pygments_lexer": "ipython3", 
            "codemirror_mode": {
                "version": 3, 
                "name": "ipython"
            }
        }
    }, 
    "nbformat": 4
}