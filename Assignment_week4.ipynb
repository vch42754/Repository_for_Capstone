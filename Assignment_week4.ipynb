{
    "nbformat_minor": 1, 
    "cells": [
        {
            "execution_count": null, 
            "cell_type": "code", 
            "metadata": {
                "collapsed": true
            }, 
            "outputs": [], 
            "source": ""
        }, 
        {
            "execution_count": 1, 
            "cell_type": "code", 
            "metadata": {}, 
            "outputs": [
                {
                    "output_type": "stream", 
                    "name": "stdout", 
                    "text": "Fetching package metadata .............\nSolving package specifications: .\n\nPackage plan for installation in environment /opt/conda/envs/DSX-Python35:\n\nThe following NEW packages will be INSTALLED:\n\n    geographiclib: 1.49-py_0   conda-forge\n    geopy:         1.17.0-py_0 conda-forge\n\ngeographiclib- 100% |################################| Time: 0:00:00  22.37 MB/s\ngeopy-1.17.0-p 100% |################################| Time: 0:00:00  34.18 MB/s\nFetching package metadata .............\nSolving package specifications: .\n\nPackage plan for installation in environment /opt/conda/envs/DSX-Python35:\n\nThe following NEW packages will be INSTALLED:\n\n    altair:  2.2.2-py35_1 conda-forge\n    branca:  0.3.1-py_0   conda-forge\n    folium:  0.5.0-py_0   conda-forge\n    vincent: 0.4.4-py_1   conda-forge\n\naltair-2.2.2-p 100% |################################| Time: 0:00:00  57.31 MB/s\nbranca-0.3.1-p 100% |################################| Time: 0:00:00  36.82 MB/s\nvincent-0.4.4- 100% |################################| Time: 0:00:00  38.90 MB/s\nfolium-0.5.0-p 100% |################################| Time: 0:00:00  49.63 MB/s\nLibraries imported.\n"
                }
            ], 
            "source": "import numpy as np # library to handle data in a vectorized manner\n\nimport pandas as pd # library for data analsysis\npd.set_option('display.max_columns', None)\npd.set_option('display.max_rows', None)\n\nimport json # library to handle JSON files\n\n!conda install -c conda-forge geopy --yes # uncomment this line if you haven't completed the Foursquare API lab\nfrom geopy.geocoders import Nominatim # convert an address into latitude and longitude values\n\nimport requests # library to handle requests\nfrom pandas.io.json import json_normalize # tranform JSON file into a pandas dataframe\n\n# Matplotlib and associated plotting modules\nimport matplotlib.cm as cm\nimport matplotlib.colors as colors\n\n# import k-means from clustering stage\nfrom sklearn.cluster import KMeans\n\n!conda install -c conda-forge folium=0.5.0 --yes # uncomment this line if you haven't completed the Foursquare API lab\nimport folium # map rendering library\n\nprint('Libraries imported.')"
        }, 
        {
            "execution_count": 2, 
            "cell_type": "code", 
            "metadata": {}, 
            "outputs": [
                {
                    "output_type": "stream", 
                    "name": "stdout", 
                    "text": "Your credentails:\nCLIENT_ID: DZOZJVJU35C43HQTP2DK2WFTFHH4LOB3OGR2A4FR1VXDA0UM\nCLIENT_SECRET:JORWUPXN5RSQRYSTHZYE2W0233DLGYPLLWAZCFRX0CNIWXBD\n"
                }
            ], 
            "source": "CLIENT_ID = 'DZOZJVJU35C43HQTP2DK2WFTFHH4LOB3OGR2A4FR1VXDA0UM' # your Foursquare ID\nCLIENT_SECRET = 'JORWUPXN5RSQRYSTHZYE2W0233DLGYPLLWAZCFRX0CNIWXBD' # your Foursquare Secret\nVERSION = '20180604'\nLIMIT = 30\nprint('Your credentails:')\nprint('CLIENT_ID: ' + CLIENT_ID)\nprint('CLIENT_SECRET:' + CLIENT_SECRET)"
        }, 
        {
            "execution_count": 4, 
            "cell_type": "code", 
            "metadata": {}, 
            "outputs": [
                {
                    "execution_count": 4, 
                    "metadata": {}, 
                    "data": {
                        "text/html": "<div>\n<style scoped>\n    .dataframe tbody tr th:only-of-type {\n        vertical-align: middle;\n    }\n\n    .dataframe tbody tr th {\n        vertical-align: top;\n    }\n\n    .dataframe thead th {\n        text-align: right;\n    }\n</style>\n<table border=\"1\" class=\"dataframe\">\n  <thead>\n    <tr style=\"text-align: right;\">\n      <th></th>\n      <th>NAME</th>\n      <th>BOARD</th>\n      <th>TYPE</th>\n      <th>NAME_AB</th>\n      <th>ADDRESS_AB</th>\n      <th>CITY</th>\n      <th>PROVINCE</th>\n      <th>GRADES</th>\n      <th>POSTSECOND</th>\n      <th>DATA_SOURCE</th>\n      <th>PROVINCIAL_CODE_NUM</th>\n      <th>ECS</th>\n      <th>ELEM</th>\n      <th>JUNIOR_H</th>\n      <th>SENIOR_H</th>\n      <th>PROCESS_DT</th>\n      <th>POSTAL_COD</th>\n      <th>STRUCTURE_ID</th>\n      <th>longitude</th>\n      <th>latitude</th>\n      <th>location</th>\n    </tr>\n  </thead>\n  <tbody>\n    <tr>\n      <th>0</th>\n      <td>Alternative High</td>\n      <td>Calgary School District No. 19</td>\n      <td>Public School</td>\n      <td>Alternative High School</td>\n      <td>5003 20 Street SW</td>\n      <td>Calgary</td>\n      <td>AB</td>\n      <td>GR9-12</td>\n      <td>N</td>\n      <td>CBE Data</td>\n      <td>9863.0</td>\n      <td>N</td>\n      <td>N</td>\n      <td>Y</td>\n      <td>Y</td>\n      <td>2018/12/09</td>\n      <td>T2T5A5</td>\n      <td>1382202</td>\n      <td>-114.109960</td>\n      <td>51.009659</td>\n      <td>(51.0096594597176, -114.109959974644)</td>\n    </tr>\n    <tr>\n      <th>1</th>\n      <td>Clarence Sansom</td>\n      <td>Calgary School District No. 19</td>\n      <td>Public School</td>\n      <td>Clarence Sansom School</td>\n      <td>5840 24 Avenue NE</td>\n      <td>Calgary</td>\n      <td>AB</td>\n      <td>GR7-9</td>\n      <td>N</td>\n      <td>CBE Data</td>\n      <td>9682.0</td>\n      <td>N</td>\n      <td>N</td>\n      <td>Y</td>\n      <td>N</td>\n      <td>2018/12/09</td>\n      <td>T1Y6G4</td>\n      <td>1383016</td>\n      <td>-113.949196</td>\n      <td>51.074613</td>\n      <td>(51.0746134753666, -113.94919550352)</td>\n    </tr>\n    <tr>\n      <th>2</th>\n      <td>Trinity Christian</td>\n      <td>Palliser Regional Division No. 26</td>\n      <td>Public School</td>\n      <td>Trinity Christian School</td>\n      <td>#100, 295 Midpark Way S.E.</td>\n      <td>Calgary</td>\n      <td>AB</td>\n      <td>Elementary/Junior High</td>\n      <td>N</td>\n      <td>Provincial Data</td>\n      <td>9973.0</td>\n      <td>N</td>\n      <td>Y</td>\n      <td>Y</td>\n      <td>N</td>\n      <td>2018/12/09</td>\n      <td>T2X2A8</td>\n      <td>1551635</td>\n      <td>-114.062240</td>\n      <td>50.909328</td>\n      <td>(50.9093282304568, -114.062240403985)</td>\n    </tr>\n    <tr>\n      <th>3</th>\n      <td>St. Andrew</td>\n      <td>Calgary Roman Catholic Separate School Distric...</td>\n      <td>Separate School</td>\n      <td>St. Andrew School</td>\n      <td>4331 41 Ave SW</td>\n      <td>Calgary</td>\n      <td>AB</td>\n      <td>Elementary</td>\n      <td>N</td>\n      <td>CSSD Data</td>\n      <td>8508.0</td>\n      <td>N</td>\n      <td>Y</td>\n      <td>N</td>\n      <td>N</td>\n      <td>2018/12/09</td>\n      <td>T3E1G2</td>\n      <td>1382283</td>\n      <td>-114.147724</td>\n      <td>51.016363</td>\n      <td>(51.0163628240918, -114.147724169443)</td>\n    </tr>\n    <tr>\n      <th>4</th>\n      <td>Wildwood</td>\n      <td>Calgary School District No. 19</td>\n      <td>Public School</td>\n      <td>Wildwood School</td>\n      <td>120 45 Street SW</td>\n      <td>Calgary</td>\n      <td>AB</td>\n      <td>GRK-6</td>\n      <td>N</td>\n      <td>CBE Data</td>\n      <td>9141.0</td>\n      <td>Y</td>\n      <td>Y</td>\n      <td>N</td>\n      <td>N</td>\n      <td>2018/12/09</td>\n      <td>T3C2B3</td>\n      <td>1382147</td>\n      <td>-114.152117</td>\n      <td>51.051590</td>\n      <td>(51.0515895485028, -114.15211656432)</td>\n    </tr>\n  </tbody>\n</table>\n</div>", 
                        "text/plain": "                NAME                                              BOARD  \\\n0   Alternative High                     Calgary School District No. 19   \n1    Clarence Sansom                     Calgary School District No. 19   \n2  Trinity Christian                  Palliser Regional Division No. 26   \n3         St. Andrew  Calgary Roman Catholic Separate School Distric...   \n4           Wildwood                     Calgary School District No. 19   \n\n              TYPE                   NAME_AB                  ADDRESS_AB  \\\n0    Public School   Alternative High School           5003 20 Street SW   \n1    Public School    Clarence Sansom School           5840 24 Avenue NE   \n2    Public School  Trinity Christian School  #100, 295 Midpark Way S.E.   \n3  Separate School         St. Andrew School              4331 41 Ave SW   \n4    Public School           Wildwood School            120 45 Street SW   \n\n      CITY PROVINCE                  GRADES POSTSECOND      DATA_SOURCE  \\\n0  Calgary       AB                  GR9-12          N         CBE Data   \n1  Calgary       AB                   GR7-9          N         CBE Data   \n2  Calgary       AB  Elementary/Junior High          N  Provincial Data   \n3  Calgary       AB              Elementary          N        CSSD Data   \n4  Calgary       AB                   GRK-6          N         CBE Data   \n\n   PROVINCIAL_CODE_NUM ECS ELEM JUNIOR_H SENIOR_H  PROCESS_DT POSTAL_COD  \\\n0               9863.0   N    N        Y        Y  2018/12/09     T2T5A5   \n1               9682.0   N    N        Y        N  2018/12/09     T1Y6G4   \n2               9973.0   N    Y        Y        N  2018/12/09     T2X2A8   \n3               8508.0   N    Y        N        N  2018/12/09     T3E1G2   \n4               9141.0   Y    Y        N        N  2018/12/09     T3C2B3   \n\n   STRUCTURE_ID   longitude   latitude                               location  \n0       1382202 -114.109960  51.009659  (51.0096594597176, -114.109959974644)  \n1       1383016 -113.949196  51.074613   (51.0746134753666, -113.94919550352)  \n2       1551635 -114.062240  50.909328  (50.9093282304568, -114.062240403985)  \n3       1382283 -114.147724  51.016363  (51.0163628240918, -114.147724169443)  \n4       1382147 -114.152117  51.051590   (51.0515895485028, -114.15211656432)  "
                    }, 
                    "output_type": "execute_result"
                }
            ], 
            "source": "# The code was removed by Watson Studio for sharing."
        }, 
        {
            "execution_count": null, 
            "cell_type": "code", 
            "metadata": {}, 
            "outputs": [], 
            "source": "\n"
        }, 
        {
            "execution_count": null, 
            "cell_type": "code", 
            "metadata": {}, 
            "outputs": [], 
            "source": ""
        }, 
        {
            "execution_count": null, 
            "cell_type": "code", 
            "metadata": {}, 
            "outputs": [], 
            "source": ""
        }, 
        {
            "execution_count": null, 
            "cell_type": "code", 
            "metadata": {}, 
            "outputs": [], 
            "source": ""
        }, 
        {
            "execution_count": null, 
            "cell_type": "code", 
            "metadata": {}, 
            "outputs": [], 
            "source": ""
        }, 
        {
            "execution_count": null, 
            "cell_type": "code", 
            "metadata": {}, 
            "outputs": [], 
            "source": ""
        }, 
        {
            "execution_count": null, 
            "cell_type": "code", 
            "metadata": {}, 
            "outputs": [], 
            "source": ""
        }, 
        {
            "execution_count": null, 
            "cell_type": "code", 
            "metadata": {}, 
            "outputs": [], 
            "source": ""
        }, 
        {
            "execution_count": null, 
            "cell_type": "code", 
            "metadata": {}, 
            "outputs": [], 
            "source": ""
        }, 
        {
            "execution_count": null, 
            "cell_type": "code", 
            "metadata": {}, 
            "outputs": [], 
            "source": ""
        }, 
        {
            "execution_count": null, 
            "cell_type": "code", 
            "metadata": {}, 
            "outputs": [], 
            "source": ""
        }, 
        {
            "execution_count": null, 
            "cell_type": "code", 
            "metadata": {}, 
            "outputs": [], 
            "source": ""
        }, 
        {
            "execution_count": null, 
            "cell_type": "code", 
            "metadata": {}, 
            "outputs": [], 
            "source": ""
        }, 
        {
            "execution_count": null, 
            "cell_type": "code", 
            "metadata": {}, 
            "outputs": [], 
            "source": ""
        }, 
        {
            "execution_count": null, 
            "cell_type": "code", 
            "metadata": {}, 
            "outputs": [], 
            "source": ""
        }, 
        {
            "execution_count": null, 
            "cell_type": "code", 
            "metadata": {}, 
            "outputs": [], 
            "source": ""
        }, 
        {
            "execution_count": null, 
            "cell_type": "code", 
            "metadata": {}, 
            "outputs": [], 
            "source": ""
        }, 
        {
            "execution_count": null, 
            "cell_type": "code", 
            "metadata": {}, 
            "outputs": [], 
            "source": ""
        }, 
        {
            "execution_count": null, 
            "cell_type": "code", 
            "metadata": {}, 
            "outputs": [], 
            "source": ""
        }, 
        {
            "execution_count": null, 
            "cell_type": "code", 
            "metadata": {}, 
            "outputs": [], 
            "source": ""
        }
    ], 
    "metadata": {
        "kernelspec": {
            "display_name": "Python 3.5", 
            "name": "python3", 
            "language": "python"
        }, 
        "language_info": {
            "mimetype": "text/x-python", 
            "nbconvert_exporter": "python", 
            "version": "3.5.5", 
            "name": "python", 
            "file_extension": ".py", 
            "pygments_lexer": "ipython3", 
            "codemirror_mode": {
                "version": 3, 
                "name": "ipython"
            }
        }
    }, 
    "nbformat": 4
}