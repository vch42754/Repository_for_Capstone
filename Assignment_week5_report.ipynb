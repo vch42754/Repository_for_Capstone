{
    "nbformat_minor": 1, 
    "cells": [
        {
            "source": "As I mentioned before I am analyzing the neighbor areas in order to choose the best public school for my kids. The choice would be made based on the existing the cultural and recreational amenities in the Community I currently live or the nearest ones. \nWell, I started from importing the files for analysis from the sources I set in the previous assignment.\nThe imported tables were joined in order to obtain the coordinates and the name of the schools.\nAs it shown in the Notebook, I exposed the school locations on the map. I picked an area that is most convenient for me. I found the school locations around 700 meters around the place of my choice. The next step was observation of local amenities. I found out 6 places that could potentially affect my final decision. One of them is The Military Museum \u2013 my daughter likes history. Glenmore Aquatic Centre is a big advantage as well. Then, I enlarged the search scale increasing it upto 1000 meters. As a result, I got the 13 points of interest.  \nOnes I completed this step, I found what community every single school belongs to. I realized that Rundle and Whitehorn Communities might be interesting for more detail observation. I visualized the school points on the map. The total number of schools reached 22. Searching the venues around 1000 meters I found 13 spots including one subway station, which makes this location convenient for me. I printed the all-available schools and decided to choose the Calgary School District \u2116 19.  As my dataframe indicates, the subway is quite close to it and there are enough amenities around it reaching 36 spots.  \n\n\n\n\n", 
            "cell_type": "markdown", 
            "metadata": {
                "collapsed": true
            }
        }
    ], 
    "metadata": {
        "kernelspec": {
            "display_name": "Python 3.5", 
            "name": "python3", 
            "language": "python"
        }, 
        "language_info": {
            "mimetype": "text/x-python", 
            "nbconvert_exporter": "python", 
            "version": "3.5.5", 
            "name": "python", 
            "file_extension": ".py", 
            "pygments_lexer": "ipython3", 
            "codemirror_mode": {
                "version": 3, 
                "name": "ipython"
            }
        }
    }, 
    "nbformat": 4
}