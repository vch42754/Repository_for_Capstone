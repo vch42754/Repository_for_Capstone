{
    "nbformat_minor": 1, 
    "cells": [
        {
            "source": "Problematic overview:\n\nIn the current assignment, I am going to go over the observation of the City of Calgary public schools. I intend to make analysis regarding the selection the best public school for my kids in terms of amenity location, cultural and recreational spots available at least 700 \u2013 1000 meters around a school of my choice. In order to make analysis I am going to join the tables combining both the geographical coordinates and the names of communities. \nThe Foursquare resource will be also a useful resource to integrate my joined table. Other words I would like to find out what venues available around the schools and communities in certain areas with Foursquare.\n\nThe Nominatim() method is also a great method to find out the coordinates of the City of Calgary on the digital online map.\n\n\n\n", 
            "cell_type": "markdown", 
            "metadata": {
                "collapsed": true
            }
        }
    ], 
    "metadata": {
        "kernelspec": {
            "display_name": "Python 3.5", 
            "name": "python3", 
            "language": "python"
        }, 
        "language_info": {
            "mimetype": "text/x-python", 
            "nbconvert_exporter": "python", 
            "version": "3.5.5", 
            "name": "python", 
            "file_extension": ".py", 
            "pygments_lexer": "ipython3", 
            "codemirror_mode": {
                "version": 3, 
                "name": "ipython"
            }
        }
    }, 
    "nbformat": 4
}