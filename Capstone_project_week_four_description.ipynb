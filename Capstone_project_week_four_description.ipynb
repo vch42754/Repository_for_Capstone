{
    "nbformat_minor": 1, 
    "cells": [
        {
            "source": "In the current assignment, I go over the observation of the City of Calgary public schools. I do analysis regarding the selection the best public school for my kids in terms of amenity location, cultural and recreational spots. I used the data from the City of Calgary \u2013 \u201cOpen Data Catalog\u201d, which is open for public and free to download:\nhttps://data.calgary.ca/Services-and-Amenities/School-Locations-and-Communities-Map/64t2-ax4d\nFor detail analysis, I also used the table for postal codes in Calgary, which I have found on the following directory:\nhttp://www.geonames.org/postalcode-search.html?q=Calgary&country=CA&adminCode1=AB\nIn order to make analysis I joined both tables combining both the geographical coordinates and the names of communities.  \nThe Foursquare resource was used to integrate my joined table with online available resources, other words to find out what venues available around the schools and communities in certain areas.\n\nThe Nominatim() method was also used to find out the coordinates of the City of Calgary on the map.\n\n", 
            "cell_type": "markdown", 
            "metadata": {
                "collapsed": true
            }
        }
    ], 
    "metadata": {
        "kernelspec": {
            "display_name": "Python 3.5", 
            "name": "python3", 
            "language": "python"
        }, 
        "language_info": {
            "mimetype": "text/x-python", 
            "nbconvert_exporter": "python", 
            "version": "3.5.5", 
            "name": "python", 
            "file_extension": ".py", 
            "pygments_lexer": "ipython3", 
            "codemirror_mode": {
                "version": 3, 
                "name": "ipython"
            }
        }
    }, 
    "nbformat": 4
}